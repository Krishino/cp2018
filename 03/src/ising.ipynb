{
 "cells": [
  {
   "cell_type": "markdown",
   "metadata": {},
   "source": [
    "# Ising model using python"
   ]
  },
  {
   "cell_type": "markdown",
   "metadata": {},
   "source": [
    "Pseudo code\n",
    "```python\n",
    "for every point in the grid:\n",
    "    energy = my spin * sum of all of the spins (+1 or -1) of neighboring points\n",
    "    if energy is improved by switching:\n",
    "        switch\n",
    "    else if we're particulalry unlucky\n",
    "        switch anyway\n",
    "```"
   ]
  },
  {
   "cell_type": "code",
   "execution_count": null,
   "metadata": {},
   "outputs": [],
   "source": [
    "import numpy as np\n",
    "import matplotlib.pyplot as plt\n",
    "%matplotlib inline"
   ]
  },
  {
   "cell_type": "code",
   "execution_count": null,
   "metadata": {},
   "outputs": [],
   "source": [
    "def periodicalize(lattice):\n",
    "    n, m = lattice.shape\n",
    "    n -= 1\n",
    "    m -= 1\n",
    "    \n",
    "    lattice[:, 0] = lattice[:, m - 1]\n",
    "    lattice[:, m] = lattice[:, 1]\n",
    "    lattice[0, :] = lattice[n - 1, :]\n",
    "    lattice[n, :] = lattice[1, :]\n",
    "    \n",
    "    return lattice"
   ]
  },
  {
   "cell_type": "code",
   "execution_count": null,
   "metadata": {},
   "outputs": [],
   "source": [
    "# Initialize Random Lattice\n",
    "def init(n, m=None, random=True):\n",
    "    if m is None:\n",
    "        m = n\n",
    "    if random:\n",
    "        field = np.random.choice([-1, 1], size=[n, m])  # Random Spins\n",
    "    else:\n",
    "        field = np.ones([n, m])\n",
    "    \n",
    "    # add bounds\n",
    "    lattice = np.zeros([n + 2, m + 2])\n",
    "    lattice[1:n + 1, 1:m + 1] = field\n",
    "    \n",
    "    return periodicalize(lattice)"
   ]
  },
  {
   "cell_type": "code",
   "execution_count": null,
   "metadata": {},
   "outputs": [],
   "source": [
    "# Implement Ising Model Steps\n",
    "def step(old_field, J=1, kbT=1):\n",
    "    n, m = f.shape\n",
    "    new_field = old_field.copy()\n",
    "    beta = 1 / kbT\n",
    "    \n",
    "    for i in range(1, n-1):\n",
    "        for j in range(1, m-1):\n",
    "            Hamiltonian_old = - J * old_field[i, j] * (  # eigener Spin\n",
    "                old_field[i-1, j] +  # alle naechsten Nachbarn\n",
    "                old_field[i+1, j] +\n",
    "                old_field[i, j-1] +\n",
    "                old_field[i, j+1]\n",
    "            )\n",
    "            Hamiltonian_new = - Hamiltonian_old  # Energie falls geflippt wuerde\n",
    "            deltaE = Hamiltonian_new - Hamiltonian_old\n",
    "            \n",
    "            # Flip spin if energy is minimized after flip\n",
    "            if deltaE < 0:\n",
    "                new_field[i, j] *= -1\n",
    "            # Dont do anything if energy is same\n",
    "            elif deltaE == 0:\n",
    "                pass\n",
    "            # Random spin flip if unlucky\n",
    "            elif np.exp(- beta * deltaE) > np.random.rand():\n",
    "                new_field[i, j] *= -1\n",
    "                \n",
    "                \n",
    "    return periodicalize(new_field)"
   ]
  },
  {
   "cell_type": "code",
   "execution_count": null,
   "metadata": {},
   "outputs": [],
   "source": [
    "# Define Start Values\n",
    "steps = 100 #+ 10000\n",
    "n = 10\n",
    "J = 1\n",
    "kbT = 1 * J\n",
    "f = init(n, random=True)\n",
    "\n",
    "images = [f]\n",
    "\n",
    "# Run Model, Save Every Step\n",
    "for i in range(steps):\n",
    "    images.append(step(images[-1].copy(), J=J, kbT=kbT))"
   ]
  },
  {
   "cell_type": "code",
   "execution_count": null,
   "metadata": {},
   "outputs": [],
   "source": [
    "# Display Lattice After MC\n",
    "first = images[0]\n",
    "final = images[-1]\n",
    "\n",
    "fig = plt.figure()\n",
    "fig.set_size_inches([10, 4])\n",
    "ax_first = fig.add_subplot(121)\n",
    "ax_final = fig.add_subplot(122)\n",
    "\n",
    "cmap = plt.get_cmap('binary', 2)\n",
    "\n",
    "im_first = ax_first.imshow(first[1:n+1, 1:n+1], cmap=cmap)\n",
    "im_final = ax_final.imshow(final[1:n+1, 1:n+1], cmap=cmap)\n",
    "\n",
    "cbar = fig.colorbar(im_first)\n",
    "cbar.set_ticks([-1, 1])\n",
    "cbar.ax.set_ylabel(\"Spin\")\n",
    "\n",
    "ax_first.set_title(\"First\")\n",
    "ax_final.set_title(\"Final\")\n",
    "fig.tight_layout()\n",
    "fig;"
   ]
  }
 ],
 "metadata": {
  "kernelspec": {
   "display_name": "Python 3",
   "language": "python",
   "name": "python3"
  },
  "language_info": {
   "codemirror_mode": {
    "name": "ipython",
    "version": 3
   },
   "file_extension": ".py",
   "mimetype": "text/x-python",
   "name": "python",
   "nbconvert_exporter": "python",
   "pygments_lexer": "ipython3",
   "version": "3.6.5"
  }
 },
 "nbformat": 4,
 "nbformat_minor": 2
}
