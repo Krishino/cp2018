{
 "cells": [
  {
   "cell_type": "markdown",
   "metadata": {},
   "source": [
    "# Ising model using python"
   ]
  },
  {
   "cell_type": "markdown",
   "metadata": {},
   "source": [
    "Pseudo code\n",
    "```python\n",
    "for every point in the grid:\n",
    "    energy = my spin * sum of all of the spins (+1 or -1) of neighboring points\n",
    "    if energy is improved by switching:\n",
    "        switch\n",
    "    else if we're particulalry unlucky\n",
    "        switch anyway\n",
    "```"
   ]
  },
  {
   "cell_type": "code",
   "execution_count": null,
   "metadata": {},
   "outputs": [],
   "source": [
    "import numpy as np\n",
    "import matplotlib.pyplot as plt\n",
    "%matplotlib inline"
   ]
  },
  {
   "cell_type": "code",
   "execution_count": null,
   "metadata": {},
   "outputs": [],
   "source": [
    "# Initialize Random Lattice\n",
    "def init(n, m=None):\n",
    "    if m is None:\n",
    "        m = n\n",
    "    field = np.random.choice([-1, 1], size=[n, m])  # Random Spins\n",
    "    \n",
    "    # Implement periodic lattice\n",
    "    lattice = np.zeros([n+2, m+2])\n",
    "    lattice[1:n+1, 1:m+1] = field\n",
    "    lattice[:, 0] = lattice[:, m]\n",
    "    lattice[:, m+1] = lattice[:, 1]\n",
    "    lattice[0, :] = lattice[n, :]\n",
    "    lattice[n+1, ] = lattice[1, :]\n",
    "    lattice[0, 0] = lattice[0, m+1] = lattice[n+1, 0] = lattice[n+1, m+1] = 0\n",
    "    \n",
    "    return field"
   ]
  },
  {
   "cell_type": "code",
   "execution_count": null,
   "metadata": {},
   "outputs": [],
   "source": [
    "# Implement Ising Model Steps\n",
    "def step(f):\n",
    "    n, m = f.shape\n",
    "    \n",
    "    for i in range(1, n-1):\n",
    "        for j in range(1, m-1):\n",
    "            e = f[i, j] * (\n",
    "                f[i-1, j] +\n",
    "                f[i+1, j] +\n",
    "                f[i, j-1] +\n",
    "                f[i, j+1]\n",
    "            )\n",
    "            # Change Spin According To Other Spins And Boltzmann\n",
    "            # TODO: IMPLEMENT ME\n",
    "            if e < f[i, j]:\n",
    "                f[i, j] = np.sign(e) if np.sign(e)!= 0 else 1\n",
    "    return f"
   ]
  },
  {
   "cell_type": "code",
   "execution_count": null,
   "metadata": {},
   "outputs": [],
   "source": [
    "# Define Start Values\n",
    "steps = 10\n",
    "n = 10\n",
    "f = init(n)\n",
    "\n",
    "images = [f]\n",
    "\n",
    "# Run Model, Save Every Step\n",
    "for i in range(steps):\n",
    "    images.append(step(images[-1].copy()))"
   ]
  },
  {
   "cell_type": "code",
   "execution_count": null,
   "metadata": {},
   "outputs": [],
   "source": [
    "# Display Lattice After MC\n",
    "final = images[-1]\n",
    "\n",
    "fig, ax = plt.subplots()\n",
    "\n",
    "cmap = plt.get_cmap('binary', 2)\n",
    "\n",
    "im = ax.imshow(final[1:n+1, 1:n+1], cmap=cmap)\n",
    "\n",
    "cbar = fig.colorbar(im)\n",
    "cbar.set_ticks([-1, 1])\n",
    "cbar.ax.set_ylabel(\"Spin\")\n",
    "\n",
    "ax.set_title(\"Spinzustaende im Ising Modell\")\n",
    "fig.tight_layout()\n",
    "fig;"
   ]
  }
 ],
 "metadata": {
  "kernelspec": {
   "display_name": "Python 3",
   "language": "python",
   "name": "python3"
  },
  "language_info": {
   "codemirror_mode": {
    "name": "ipython",
    "version": 3
   },
   "file_extension": ".py",
   "mimetype": "text/x-python",
   "name": "python",
   "nbconvert_exporter": "python",
   "pygments_lexer": "ipython3",
   "version": "3.6.5"
  }
 },
 "nbformat": 4,
 "nbformat_minor": 2
}
