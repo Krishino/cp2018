{
 "cells": [
  {
   "cell_type": "markdown",
   "metadata": {},
   "source": [
    "# Ising model using python"
   ]
  },
  {
   "cell_type": "markdown",
   "metadata": {},
   "source": [
    "Pseudo code\n",
    "```python\n",
    "for every point in the grid:\n",
    "    energy = my spin * sum of all of the spins (+1 or -1) of neighboring points\n",
    "    if energy is improved by switching:\n",
    "        switch\n",
    "    else if we're particulalry unlucky\n",
    "        switch anyway\n",
    "```"
   ]
  },
  {
   "cell_type": "code",
   "execution_count": 52,
   "metadata": {},
   "outputs": [],
   "source": [
    "import numpy as np\n",
    "import matplotlib.pyplot as plt\n",
    "%matplotlib inline"
   ]
  },
  {
   "cell_type": "code",
   "execution_count": 124,
   "metadata": {},
   "outputs": [],
   "source": [
    "def periodicalize(lattice):\n",
    "    n, m = lattice.shape\n",
    "    n -= 1\n",
    "    m -= 1\n",
    "    \n",
    "    lattice[:, 0] = lattice[:, m-1]\n",
    "    lattice[:, m] = lattice[:, 1]\n",
    "    lattice[0, :] = lattice[n-1, :]\n",
    "    lattice[n, ] = lattice[1, :]\n",
    "    # Ecken\n",
    "    lattice[0, 0] = lattice[0, m] = lattice[n, 0] = lattice[n, m] = 0\n",
    "    return lattice"
   ]
  },
  {
   "cell_type": "code",
   "execution_count": 125,
   "metadata": {},
   "outputs": [],
   "source": [
    "# Initialize Random Lattice\n",
    "def init(n, m=None, random=True, periodic=True):\n",
    "    if m is None:\n",
    "        m = n\n",
    "    if random:\n",
    "        field = np.random.choice([-1, 1], size=[n, m])  # Random Spins\n",
    "    else:\n",
    "        field = np.ones([n, m])\n",
    "        \n",
    "    lattice = np.zeros([n+2, m+2])\n",
    "    lattice[1:n+1, 1:m+1] = field\n",
    "    \n",
    "    if periodic:\n",
    "        return periodicalize(lattice)\n",
    "    else:\n",
    "        return field"
   ]
  },
  {
   "cell_type": "code",
   "execution_count": 133,
   "metadata": {},
   "outputs": [],
   "source": [
    "# Implement Ising Model Steps\n",
    "def step(old_field):\n",
    "    n, m = f.shape\n",
    "    new_field = old_field\n",
    "    J = 1\n",
    "    beta = 1\n",
    "    \n",
    "    for i in range(1, n-1):\n",
    "        for j in range(1, m-1):\n",
    "            Hamiltonian_old = - J * old_field[i, j] * (  # eigener Spin\n",
    "                old_field[i-1, j] +  # alle naechsten Nachbarn\n",
    "                old_field[i+1, j] +\n",
    "                old_field[i, j-1] +\n",
    "                old_field[i, j+1]\n",
    "            )\n",
    "            Hamiltonian_new = - Hamiltonian_old\n",
    "            # Change Spin According To Other Spins And Boltzmann\n",
    "            # TODO: IMPLEMENT ME\n",
    "            if Hamiltonian_new < Hamiltonian_old:\n",
    "                new_field[i, j] *= -1\n",
    "            # if np.exp(- beta * f[i, j]) > np.random.rand():\n",
    "            #     field[i, j] *= -1\n",
    "    print(periodicalize(new_field))\n",
    "    return periodicalize(new_field)"
   ]
  },
  {
   "cell_type": "code",
   "execution_count": 134,
   "metadata": {},
   "outputs": [
    {
     "name": "stdout",
     "output_type": "stream",
     "text": [
      "[[ 0. -1.  1.  1.  1.  0.]\n",
      " [ 1. -1.  1.  1.  1. -1.]\n",
      " [-1. -1.  1. -1. -1. -1.]\n",
      " [ 1. -1.  1.  1.  1. -1.]\n",
      " [ 1. -1.  1.  1.  1. -1.]\n",
      " [ 0. -1.  1.  1.  1.  0.]]\n",
      "[[ 0. -1.  1.  1.  1.  0.]\n",
      " [ 1. -1.  1.  1.  1. -1.]\n",
      " [ 1. -1.  1.  1.  1. -1.]\n",
      " [ 1. -1.  1.  1.  1. -1.]\n",
      " [ 1. -1.  1.  1.  1. -1.]\n",
      " [ 0. -1.  1.  1.  1.  0.]]\n"
     ]
    }
   ],
   "source": [
    "# Define Start Values\n",
    "steps = 2 #+ 10000\n",
    "n = 4\n",
    "f = init(n, random=True)\n",
    "\n",
    "images = [f]\n",
    "\n",
    "# Run Model, Save Every Step\n",
    "for i in range(steps):\n",
    "    images.append(step(images[-1].copy()))"
   ]
  },
  {
   "cell_type": "code",
   "execution_count": 139,
   "metadata": {},
   "outputs": [
    {
     "data": {
      "image/png": "[encoded data removed]",
      "text/plain": [
       "<Figure size 720x288 with 3 Axes>"
      ]
     },
     "metadata": {},
     "output_type": "display_data"
    }
   ],
   "source": [
    "# Display Lattice After MC\n",
    "first = images[1]\n",
    "final = images[2]\n",
    "\n",
    "fig = plt.figure()\n",
    "fig.set_size_inches([10, 4])\n",
    "ax_first = fig.add_subplot(121)\n",
    "ax_final = fig.add_subplot(122)\n",
    "\n",
    "cmap = plt.get_cmap('binary', 2)\n",
    "\n",
    "# im_first = ax_first.imshow(first[1:n+1, 1:n+1], cmap=cmap)\n",
    "# im_final = ax_final.imshow(final[1:n+1, 1:n+1], cmap=cmap)\n",
    "im_first = ax_first.imshow(first[1:n+1, 1:n+1], cmap=cmap)\n",
    "im_final = ax_final.imshow(final[1:n+1, 1:n+1], cmap=cmap)\n",
    "\n",
    "\n",
    "cbar = fig.colorbar(im_first)\n",
    "cbar.set_ticks([-1, 1])\n",
    "cbar.ax.set_ylabel(\"Spin\")\n",
    "\n",
    "ax_first.set_title(\"First\")\n",
    "ax_final.set_title(\"Final\")\n",
    "fig.tight_layout()\n",
    "fig;"
   ]
  },
  {
   "cell_type": "code",
   "execution_count": null,
   "metadata": {},
   "outputs": [],
   "source": []
  }
 ],
 "metadata": {
  "kernelspec": {
   "display_name": "Python 3",
   "language": "python",
   "name": "python3"
  },
  "language_info": {
   "codemirror_mode": {
    "name": "ipython",
    "version": 3
   },
   "file_extension": ".py",
   "mimetype": "text/x-python",
   "name": "python",
   "nbconvert_exporter": "python",
   "pygments_lexer": "ipython3",
   "version": "3.6.5"
  }
 },
 "nbformat": 4,
 "nbformat_minor": 2
}
